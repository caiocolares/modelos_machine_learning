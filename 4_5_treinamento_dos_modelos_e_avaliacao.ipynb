{
 "cells": [
  {
   "cell_type": "markdown",
   "metadata": {},
   "source": [
    "# 4. Treinamento do Modelo:"
   ]
  },
  {
   "cell_type": "code",
   "execution_count": 86,
   "metadata": {},
   "outputs": [],
   "source": [
    "import numpy as np\n",
    "import pandas as pd\n",
    "import matplotlib.pyplot as plt\n"
   ]
  },
  {
   "cell_type": "code",
   "execution_count": 87,
   "metadata": {},
   "outputs": [],
   "source": [
    "df = pd.read_parquet('data/vendas.parquet')"
   ]
  },
  {
   "cell_type": "code",
   "execution_count": 88,
   "metadata": {},
   "outputs": [],
   "source": [
    "df = df[df['year'] > 2021]"
   ]
  },
  {
   "cell_type": "code",
   "execution_count": 89,
   "metadata": {},
   "outputs": [
    {
     "data": {
      "text/plain": [
       "699"
      ]
     },
     "execution_count": 89,
     "metadata": {},
     "output_type": "execute_result"
    }
   ],
   "source": [
    "##dias de venda\n",
    "len(df['dtvenda'].unique())"
   ]
  },
  {
   "cell_type": "code",
   "execution_count": 90,
   "metadata": {},
   "outputs": [],
   "source": [
    "df['vlvendido'] = df['qtd']* df['vlunitario']"
   ]
  },
  {
   "cell_type": "code",
   "execution_count": 91,
   "metadata": {},
   "outputs": [],
   "source": [
    "df = df.sort_values(by='dtvenda').reset_index()"
   ]
  },
  {
   "cell_type": "code",
   "execution_count": 92,
   "metadata": {},
   "outputs": [],
   "source": [
    "df = df.groupby(['day_of_week', 'month', 'day_of_year', 'year'])\\\n",
    "            [['qtd', 'vlvendido']].sum().reset_index()"
   ]
  },
  {
   "cell_type": "code",
   "execution_count": 93,
   "metadata": {},
   "outputs": [
    {
     "data": {
      "text/plain": [
       "(699, 6)"
      ]
     },
     "execution_count": 93,
     "metadata": {},
     "output_type": "execute_result"
    }
   ],
   "source": [
    "df.shape"
   ]
  },
  {
   "cell_type": "markdown",
   "metadata": {},
   "source": [
    "## 4.1 - Método de Treinamento: Divisão Treino/Teste ou Validação Cruzada"
   ]
  },
  {
   "cell_type": "code",
   "execution_count": 94,
   "metadata": {},
   "outputs": [],
   "source": [
    "from sklearn.metrics import mean_absolute_error, mean_squared_error, root_mean_squared_error"
   ]
  },
  {
   "cell_type": "code",
   "execution_count": 95,
   "metadata": {},
   "outputs": [
    {
     "name": "stdout",
     "output_type": "stream",
     "text": [
      "windows_size = 30\n",
      "train_size = 543\n",
      "val_size = 0\n",
      "test_size = 156\n",
      "features = ['day_of_week', 'month', 'day_of_year', 'year', 'qtd', 'vlvendido']\n"
     ]
    }
   ],
   "source": [
    "windows_size = 30 # ref. day  -- 30/60\n",
    "train_size = None # ref. day\n",
    "val_size = 0 # ref. day\n",
    "test_size = 156 # ref. day\n",
    "\n",
    "flag_stationary = False\n",
    "\n",
    "features = ['day_of_week', 'month', 'day_of_year', 'year', 'qtd', 'vlvendido']\n",
    "\n",
    "if train_size is None:\n",
    "    train_size = len(df) - val_size - test_size\n",
    "\n",
    "print(f'windows_size = {windows_size}')\n",
    "print(f'train_size = {train_size}')\n",
    "print(f'val_size = {val_size}')\n",
    "print(f'test_size = {test_size}')\n",
    "print(f'features = {features}')\n"
   ]
  },
  {
   "cell_type": "code",
   "execution_count": 96,
   "metadata": {},
   "outputs": [],
   "source": [
    "def create_dataset(df, windows_size):\n",
    "    \n",
    "    X = []\n",
    "    y = []\n",
    "    \n",
    "    for i in range(len(df) - windows_size):\n",
    "        \n",
    "        pos_target = i + windows_size\n",
    "        target = df.iloc[pos_target]['qtd']\n",
    "        \n",
    "        sample = []\n",
    "        for f in features:\n",
    "            if f == 'qtd':\n",
    "                sample += list(df.iloc[i:pos_target][f].values)\n",
    "            else:\n",
    "                sample += [df.iloc[pos_target][f]]\n",
    "        \n",
    "        X.append(sample)\n",
    "        y.append(target)\n",
    "    \n",
    "    return np.array(X), np.array(y)"
   ]
  },
  {
   "cell_type": "code",
   "execution_count": 97,
   "metadata": {},
   "outputs": [
    {
     "data": {
      "text/plain": [
       "((669, 35), (669,))"
      ]
     },
     "execution_count": 97,
     "metadata": {},
     "output_type": "execute_result"
    }
   ],
   "source": [
    "X, y = create_dataset(df, windows_size=windows_size)\n",
    "\n",
    "X.shape, y.shape"
   ]
  },
  {
   "cell_type": "code",
   "execution_count": 98,
   "metadata": {},
   "outputs": [],
   "source": [
    "from sklearn.preprocessing import StandardScaler\n",
    "scaler = StandardScaler()\n",
    "X_scaled = scaler.fit_transform(X)"
   ]
  },
  {
   "cell_type": "code",
   "execution_count": 99,
   "metadata": {},
   "outputs": [
    {
     "data": {
      "text/plain": [
       "array([[-1.58517062, -0.92950515, -0.8847914 , ..., -0.29554973,\n",
       "        -0.67353821, -0.56404412],\n",
       "       [-1.58517062, -0.92950515, -0.81663424, ..., -0.67394926,\n",
       "        -0.52940481, -0.41365988],\n",
       "       [-1.58517062, -0.63240102, -0.76795055, ..., -0.52979706,\n",
       "        -0.36725472,  0.67830331],\n",
       "       ...,\n",
       "       [ 1.45345157,  1.74443203,  1.81228471, ..., -0.40366388,\n",
       "        -0.42130475, -0.02312244],\n",
       "       [ 1.45345157,  1.74443203,  1.82202145, ..., -0.4216829 ,\n",
       "        -0.02493788, -0.54713168],\n",
       "       [ 1.45345157,  1.74443203,  1.88044187, ..., -0.02526434,\n",
       "        -0.51138813,  0.02436714]])"
      ]
     },
     "execution_count": 99,
     "metadata": {},
     "output_type": "execute_result"
    }
   ],
   "source": [
    "X_scaled"
   ]
  },
  {
   "cell_type": "code",
   "execution_count": 100,
   "metadata": {},
   "outputs": [
    {
     "data": {
      "text/plain": [
       "((513, 35), (513,), (156, 35), (156,))"
      ]
     },
     "execution_count": 100,
     "metadata": {},
     "output_type": "execute_result"
    }
   ],
   "source": [
    "X_test, y_test = X_scaled[-test_size:, :], y[-test_size:]\n",
    "X_train, y_train = X_scaled[-test_size-val_size-train_size:-test_size-val_size, :], y[-test_size-val_size-train_size:-test_size-val_size]\n",
    "\n",
    "X_train.shape, y_train.shape, X_test.shape, y_test.shape"
   ]
  },
  {
   "cell_type": "code",
   "execution_count": 101,
   "metadata": {},
   "outputs": [
    {
     "data": {
      "text/plain": [
       "array([ 11.,  20.,  86.,  22.,   1.,  33.,  17.,  20.,  39.,  29.,   7.,\n",
       "        18.,  13.,  10., 154.,  20.,  14.,  32.,  16.,  20.,  15.,  10.,\n",
       "         7.,  10.,  31.,  15.,  58.,  58.,  67.,  22.,  28.,  26.,   9.,\n",
       "        21.,  10.,  12.,  27.,  10.,  13.,  40.,  21.,  16.,  28.,  17.,\n",
       "        30.,   8., 232.,  83.,  15.,  22.,  14.,  18.,  21.,  39., 102.,\n",
       "         9.,  17.,  25.,  11.,   6.,  20.,  57.,  32.,   7.,  13.,  31.,\n",
       "        47.,  12.,  28.,  82., 333.,  13.,  42.,  14.,  61.,  34.,  27.,\n",
       "         9.,  10.,  29.,  19.,  45.,  19.,  40.,  82.,  25.,  24.,  11.,\n",
       "        16.,  18.,  24.,  18.,   6.,  20.,   3., 198., 299.,   1.,  41.,\n",
       "        13.,   6., 152.,   5.,  20.,  25.,  34., 252.,  11.,  55.,   8.,\n",
       "        28.,   6.,  23.,  14.,   8.,  12.,  82.,   6.,  19.,  18.,   2.,\n",
       "        25.,   3.,  19.,  24.,  26.,   7.,  22.,  72.,  35., 346.,  42.,\n",
       "        37.,  90.,   4.,  13.,  26.,   7.,  55.,  15.,  13.,  37.,  49.,\n",
       "        99.,  26.,  58.,  61.,  23.,  29.,  10.,  41.,  59.,  43.,  10.,\n",
       "        28.,  53.,  36.,  16.,   8.,  35.,  36.,  20.,  10.,  59.,  35.,\n",
       "        12.,  37.,  44.,  35.,  58.,  41.,  59.,  27., 109.,  19.,  17.,\n",
       "        22.,  22.,   4.,  80.,  51.,  13.,  10.,  25.,  26., 421., 171.,\n",
       "        37.,  24.,  13.,  31.,  39., 185.,  43.,  41.,  49.,  53.,  24.,\n",
       "        74., 113.,  97.,  17.,  73.,  56.,  28.,  11.,  10.,  37.,  44.,\n",
       "        10.,  26.,  15.,   4., 152.,  81.,  11.,  14.,  25.,   2.,  49.,\n",
       "         4.,   7.,   4., 157.,  72.,  82.,  19.,  19.,  19.,   7.,  41.,\n",
       "        26.,  31.,  15., 196.,  46.,  35.,  13.,  11.,   8.,  33.,  15.,\n",
       "        18.,  13.,   6.,  23., 112.,  47.,  51.,  12.,  22.,  85.,  69.,\n",
       "        59.,  30.,  23.,  60.,  19.,  15.,   3.,  82., 264.,  37.,  21.,\n",
       "        46.,   3.,  93.,  11.,  22.,  20.,  31.,  47.,  63.,  71.,  30.,\n",
       "        21.,  63.,   8.,  12.,  88.,  13.,  34.,  34.,  32.,  11.,  16.,\n",
       "        55.,  15., 113., 371.,  25.,  63.,  75.,  18.,  41.,  37., 103.,\n",
       "        16.,  15.,  19.,  24.,  84.,  60.,   8.,  15.,  19.,  12.,  66.,\n",
       "        13.,  78., 454.,  28.,  50.,  55.,  60.,  24.,  52., 175., 253.,\n",
       "        59.,  53.,  82.,  38.,  29.,  44.,  81.,  87.,  13.,  42.,  27.,\n",
       "        11.,  57.,  47.,  72.,  20.,   7.,  28.,   5.,  16.,  41.,   9.,\n",
       "        15.,  31., 200.,  73.,  29.,  27.,  33.,  27.,  41.,  21.,  11.,\n",
       "        27.,  11.,  14., 110.,  42., 164.,  38.,  23.,  12.,  17.,  51.,\n",
       "         8.,  30.,  19.,  29.,  66.,  33.,  35.,  26.,  23.,  21.,  40.,\n",
       "        10.,  46.,  25.,  30.,  19.,  15.,   4.,  36.,  43.,  46.,  20.,\n",
       "        28.,  93.,  37.,  95., 185.,  62.,  80.,  20.,  42.,  20.,  15.,\n",
       "        17.,  42.,  38.,  22.,  20.,  38.,   8.,  27.,  12.,   6., 180.,\n",
       "       130.,  20.,  49.,  35.,   9.,  37.,  98., 104.,  63.,  36.,  79.,\n",
       "        38.,  23.,  30.,  27.,   1.,  25.,  69.,  61.,  27.,  22., 316.,\n",
       "        32.,  12.,  15.,  19.,  86.,  23.,  37., 118., 239.,  16.,  43.,\n",
       "        56.,  11.,  22.,  92.,  18.,  61.,  15.,  40.,  70.,  74.,  20.,\n",
       "        17.,  82.,   9.,  10.,  31.,  35.,  10.,   3.,   2.,  11., 139.,\n",
       "        16.,  45.,   9.,  15., 107.,  22.,   4.,  20.,  15.,  24.,  43.,\n",
       "       208.,  33.,  47.,  20.,  51.,  31.,  26.,  13.,  46., 181., 101.,\n",
       "        18.,  30.,  22.,  12.,  31.,  43.,  26.,   6.,  20.,  25.,   2.,\n",
       "        19., 374.,  15.,  36.,  29.,  21.,   5.,  18.,  27.,  28.,   9.,\n",
       "       222.,  81.,   5.,  45.,  28.,  44.,   4.,  80., 255.,  45.,  28.,\n",
       "         7.,  24.,  24.,   8.,   6.,  22.,  24.,  16.,   4.,  51.,  40.,\n",
       "         7.,  11.,  22., 160., 375.,  38.,  51.,  13.,  59.,  57.,  67.,\n",
       "        20.,  31.,  35.,  75.,  46.,  40.,  20.,  22.,  31.,  38.,  16.,\n",
       "         1.,  11.,  86.,  72.,  28., 112.,  76.,  13.,   2.,   2.,  18.,\n",
       "        31.,  26.,  94.,   8.,   3.,  48.,   7.,   8.,   2.,  11.,   1.,\n",
       "        13.,  21.,   3.,  28.,   3.,  70.,   6.,  32.,  40.,  12.,   6.,\n",
       "        21.,  12.,  26.,   4.,   1.,  12.,  12.,   8.,   2.,  13.,   2.,\n",
       "        20., 135.,  60.,   2.,   2.,   3.,  23.,  17.,   5.,   5.,   3.,\n",
       "         2.,   3.,  13.,   8.,  14.,  50.,  10.,  14.,   3.,   4.,  16.,\n",
       "         1.,  19.,  22.,   6.,  37.,   8.,   4.,  17.,   1.,   7.,   4.,\n",
       "        24., 167.,   1.,  34.,  12.,   1.,   9.,   7.,  13.,   3.,   2.,\n",
       "         7.,   4.,   5.,   2.,   4.,  51.,  63.,  14.,   4.,   4.,  12.,\n",
       "        10.,  12.,  16.,  35.,  49.,   9.,  18.,  19.,   4.,  13.,   2.,\n",
       "        13.,   4.,  11.,   9.,  18.,  17.,  39.,  12.,  40.])"
      ]
     },
     "execution_count": 101,
     "metadata": {},
     "output_type": "execute_result"
    }
   ],
   "source": [
    "y"
   ]
  },
  {
   "cell_type": "markdown",
   "metadata": {},
   "source": [
    "## 4.2 - Pelo menos dois Modelos: Linear, Árvore, Ensemble, KNN, etc.\n",
    "\n",
    "Os modelos utilizados serão:\n",
    "- LinearRegression\n",
    "- DecisionTreeRegressor\n",
    "- AdaBoostRegressor\n",
    "- RandomForestRegressor"
   ]
  },
  {
   "cell_type": "code",
   "execution_count": 102,
   "metadata": {},
   "outputs": [],
   "source": [
    "from sklearn.linear_model import LinearRegression\n",
    "from sklearn.tree import DecisionTreeRegressor\n",
    "from sklearn.ensemble import AdaBoostRegressor, RandomForestRegressor"
   ]
  },
  {
   "cell_type": "code",
   "execution_count": 103,
   "metadata": {},
   "outputs": [],
   "source": [
    "def get_model_linear_regression():\n",
    "    return LinearRegression()\n",
    "\n",
    "def get_model_decision_tree(max_depth=5, max_leaf_nodes=5):\n",
    "    return DecisionTreeRegressor(max_depth=max_depth, max_leaf_nodes=max_leaf_nodes, random_state=42)\n",
    "\n",
    "def get_model_adaboost(n_estimators=50, learning_rate=0.5, loss='linear'):\n",
    "    return AdaBoostRegressor(n_estimators=n_estimators, learning_rate=learning_rate, loss=loss, random_state=42)\n",
    "\n",
    "def get_model_random_forest(n_estimators=50,max_depth=5):\n",
    "    return RandomForestRegressor(n_estimators=n_estimators, max_depth=max_depth, random_state=42)"
   ]
  },
  {
   "cell_type": "code",
   "execution_count": 104,
   "metadata": {},
   "outputs": [],
   "source": [
    "def predict(sample, model):\n",
    "    \n",
    "    predictions = []\n",
    "    \n",
    "    test_info = X_test[:, windows_size:]\n",
    "    \n",
    "    sample_to_predict = [sample.copy()]\n",
    "\n",
    "    for i in range(test_size):\n",
    "\n",
    "        sample_to_predict = sample_to_predict[0]\n",
    "\n",
    "        if i > 0:\n",
    "            sales = list(sample_to_predict[1:windows_size]) + [y]\n",
    "            others = list(test_info[i])\n",
    "            \n",
    "            sample_to_predict = sales + others\n",
    "\n",
    "        sample_to_predict = np.array([sample_to_predict])\n",
    "        y = model.predict(sample_to_predict)[0]\n",
    "        \n",
    "        predictions.append(y)\n",
    "    \n",
    "    return predictions"
   ]
  },
  {
   "cell_type": "code",
   "execution_count": 105,
   "metadata": {},
   "outputs": [],
   "source": [
    "def result_summary(model_name, hp, y_pred, y_test):\n",
    "    mae = mean_absolute_error(y_pred, y_test)\n",
    "    mse = mean_squared_error(y_pred, y_test)\n",
    "    rmse = root_mean_squared_error(y_pred, y_test)\n",
    "    return {\"model_name\": model_name, \"hyper_parameters\": hp,\n",
    "            \"mae\": mae, \"mse\": mse, \"rmse\": rmse}\n"
   ]
  },
  {
   "cell_type": "code",
   "execution_count": 106,
   "metadata": {},
   "outputs": [],
   "source": [
    "model = get_model_linear_regression()\n",
    "model.fit(X_train, y_train)\n",
    "\n",
    "y_pred = predict(X_test[0,:], model)"
   ]
  },
  {
   "cell_type": "code",
   "execution_count": 107,
   "metadata": {},
   "outputs": [],
   "source": [
    "lr_result = result_summary(\"linear_regression\", {}, y_pred, y_test)"
   ]
  },
  {
   "cell_type": "code",
   "execution_count": 108,
   "metadata": {},
   "outputs": [
    {
     "data": {
      "text/plain": [
       "{'model_name': 'linear_regression',\n",
       " 'hyper_parameters': {},\n",
       " 'mae': np.float64(1046869.9877903217),\n",
       " 'mse': np.float64(9591037895844.543),\n",
       " 'rmse': np.float64(3096940.085930715)}"
      ]
     },
     "execution_count": 108,
     "metadata": {},
     "output_type": "execute_result"
    }
   ],
   "source": [
    "lr_result"
   ]
  },
  {
   "cell_type": "markdown",
   "metadata": {},
   "source": [
    "## 4.3 - Hiperparâmetros"
   ]
  },
  {
   "cell_type": "code",
   "execution_count": 109,
   "metadata": {},
   "outputs": [],
   "source": [
    "decision_tree_params = [\n",
    "    {\"max_depth\": 5, \"max_leaf_nodes\": 5},\n",
    "    {\"max_depth\": 3, \"max_leaf_nodes\": 10},\n",
    "    {\"max_depth\": 10, \"max_leaf_nodes\": 5},\n",
    "    {\"max_depth\": 10, \"max_leaf_nodes\": 10},\n",
    "    {\"max_depth\": 10, \"max_leaf_nodes\": 3}\n",
    "]\n",
    "\n",
    "adaboost_params = [\n",
    "    {\"n_estimators\": 50, \"learning_rate\": 0.5, \"loss\": \"linear\"},\n",
    "    {\"n_estimators\": 100, \"learning_rate\": 0.5, \"loss\": \"linear\"},\n",
    "    {\"n_estimators\": 50, \"learning_rate\": 0.1, \"loss\": \"linear\"},\n",
    "    {\"n_estimators\": 100, \"learning_rate\": 0.1, \"loss\": \"linear\"}\n",
    "]\n",
    "\n",
    "random_forest_params = [\n",
    "    {\"n_estimators\": 50, \"max_depth\": 5},\n",
    "    {\"n_estimators\": 100, \"max_depth\": 5},\n",
    "    {\"n_estimators\": 50, \"max_depth\": 10},\n",
    "    {\"n_estimators\": 100, \"max_depth\": 10}\n",
    "]"
   ]
  },
  {
   "cell_type": "markdown",
   "metadata": {},
   "source": [
    "## 4.4 - Treinamentos"
   ]
  },
  {
   "cell_type": "code",
   "execution_count": 110,
   "metadata": {},
   "outputs": [],
   "source": [
    "resultados = [lr_result]\n"
   ]
  },
  {
   "cell_type": "markdown",
   "metadata": {},
   "source": [
    "### 4.4.1 - Arvore de Decisão"
   ]
  },
  {
   "cell_type": "code",
   "execution_count": 111,
   "metadata": {},
   "outputs": [],
   "source": [
    "for param in decision_tree_params:\n",
    "    model = get_model_decision_tree(**param)\n",
    "    model.fit(X_train, y_train)\n",
    "\n",
    "    y_pred = predict(X_test[0,:], model)\n",
    "    rs = result_summary(\"decision_tree\", param, y_pred, y_test)\n",
    "    resultados.append(rs)"
   ]
  },
  {
   "cell_type": "markdown",
   "metadata": {},
   "source": [
    "### 4.4.2 - Adaboost"
   ]
  },
  {
   "cell_type": "code",
   "execution_count": 112,
   "metadata": {},
   "outputs": [],
   "source": [
    "for param in adaboost_params:\n",
    "    model = get_model_adaboost(**param)\n",
    "    model.fit(X_train, y_train)\n",
    "\n",
    "    y_pred = predict(X_test[0,:], model)\n",
    "    rs = result_summary(\"adaboost\", param, y_pred, y_test)\n",
    "    resultados.append(rs)"
   ]
  },
  {
   "cell_type": "markdown",
   "metadata": {},
   "source": [
    "### 4.4.3 - Random Forest"
   ]
  },
  {
   "cell_type": "code",
   "execution_count": 113,
   "metadata": {},
   "outputs": [],
   "source": [
    "for param in random_forest_params:\n",
    "    model = get_model_random_forest(**param)\n",
    "    model.fit(X_train, y_train)\n",
    "\n",
    "    y_pred = predict(X_test[0,:], model)\n",
    "    rs = result_summary(\"random_forest\", param, y_pred, y_test)\n",
    "    resultados.append(rs)"
   ]
  },
  {
   "cell_type": "markdown",
   "metadata": {},
   "source": [
    "# 5 - Avaliação"
   ]
  },
  {
   "cell_type": "markdown",
   "metadata": {},
   "source": [
    "## 5.1 - Métricas\n",
    "\n",
    "Por se tratar de um problema de regressão, iremos utilizar as métricas:\n",
    "\n",
    "- **MAE** (Mean Absoluto Error): Erro Médio Absoluto\n",
    "- **MSE** (Mean Squared Error): Erro Quadrático Médio\n",
    "- **RMSE** (Root Mean Squared Error): Raiz do Erro Quadrático Médio"
   ]
  },
  {
   "cell_type": "code",
   "execution_count": 114,
   "metadata": {},
   "outputs": [
    {
     "data": {
      "text/html": [
       "<div>\n",
       "<style scoped>\n",
       "    .dataframe tbody tr th:only-of-type {\n",
       "        vertical-align: middle;\n",
       "    }\n",
       "\n",
       "    .dataframe tbody tr th {\n",
       "        vertical-align: top;\n",
       "    }\n",
       "\n",
       "    .dataframe thead th {\n",
       "        text-align: right;\n",
       "    }\n",
       "</style>\n",
       "<table border=\"1\" class=\"dataframe\">\n",
       "  <thead>\n",
       "    <tr style=\"text-align: right;\">\n",
       "      <th></th>\n",
       "      <th>model_name</th>\n",
       "      <th>hyper_parameters</th>\n",
       "      <th>mae</th>\n",
       "      <th>mse</th>\n",
       "      <th>rmse</th>\n",
       "    </tr>\n",
       "  </thead>\n",
       "  <tbody>\n",
       "    <tr>\n",
       "      <th>13</th>\n",
       "      <td>random_forest</td>\n",
       "      <td>{'n_estimators': 100, 'max_depth': 10}</td>\n",
       "      <td>2.937964e+00</td>\n",
       "      <td>2.318022e+01</td>\n",
       "      <td>4.814584e+00</td>\n",
       "    </tr>\n",
       "    <tr>\n",
       "      <th>11</th>\n",
       "      <td>random_forest</td>\n",
       "      <td>{'n_estimators': 100, 'max_depth': 5}</td>\n",
       "      <td>3.186662e+00</td>\n",
       "      <td>2.398486e+01</td>\n",
       "      <td>4.897434e+00</td>\n",
       "    </tr>\n",
       "    <tr>\n",
       "      <th>12</th>\n",
       "      <td>random_forest</td>\n",
       "      <td>{'n_estimators': 50, 'max_depth': 10}</td>\n",
       "      <td>3.036820e+00</td>\n",
       "      <td>2.464980e+01</td>\n",
       "      <td>4.964857e+00</td>\n",
       "    </tr>\n",
       "    <tr>\n",
       "      <th>10</th>\n",
       "      <td>random_forest</td>\n",
       "      <td>{'n_estimators': 50, 'max_depth': 5}</td>\n",
       "      <td>3.306393e+00</td>\n",
       "      <td>2.626150e+01</td>\n",
       "      <td>5.124597e+00</td>\n",
       "    </tr>\n",
       "    <tr>\n",
       "      <th>4</th>\n",
       "      <td>decision_tree</td>\n",
       "      <td>{'max_depth': 10, 'max_leaf_nodes': 10}</td>\n",
       "      <td>5.544658e+00</td>\n",
       "      <td>5.501560e+01</td>\n",
       "      <td>7.417250e+00</td>\n",
       "    </tr>\n",
       "    <tr>\n",
       "      <th>8</th>\n",
       "      <td>adaboost</td>\n",
       "      <td>{'n_estimators': 50, 'learning_rate': 0.1, 'lo...</td>\n",
       "      <td>7.455403e+00</td>\n",
       "      <td>8.141340e+01</td>\n",
       "      <td>9.022937e+00</td>\n",
       "    </tr>\n",
       "    <tr>\n",
       "      <th>9</th>\n",
       "      <td>adaboost</td>\n",
       "      <td>{'n_estimators': 100, 'learning_rate': 0.1, 'l...</td>\n",
       "      <td>8.018569e+00</td>\n",
       "      <td>8.923768e+01</td>\n",
       "      <td>9.446570e+00</td>\n",
       "    </tr>\n",
       "    <tr>\n",
       "      <th>2</th>\n",
       "      <td>decision_tree</td>\n",
       "      <td>{'max_depth': 3, 'max_leaf_nodes': 10}</td>\n",
       "      <td>7.770058e+00</td>\n",
       "      <td>8.965933e+01</td>\n",
       "      <td>9.468861e+00</td>\n",
       "    </tr>\n",
       "    <tr>\n",
       "      <th>7</th>\n",
       "      <td>adaboost</td>\n",
       "      <td>{'n_estimators': 100, 'learning_rate': 0.5, 'l...</td>\n",
       "      <td>8.305503e+00</td>\n",
       "      <td>9.527599e+01</td>\n",
       "      <td>9.760942e+00</td>\n",
       "    </tr>\n",
       "    <tr>\n",
       "      <th>6</th>\n",
       "      <td>adaboost</td>\n",
       "      <td>{'n_estimators': 50, 'learning_rate': 0.5, 'lo...</td>\n",
       "      <td>8.305503e+00</td>\n",
       "      <td>9.527599e+01</td>\n",
       "      <td>9.760942e+00</td>\n",
       "    </tr>\n",
       "    <tr>\n",
       "      <th>3</th>\n",
       "      <td>decision_tree</td>\n",
       "      <td>{'max_depth': 10, 'max_leaf_nodes': 5}</td>\n",
       "      <td>9.114698e+00</td>\n",
       "      <td>1.577871e+02</td>\n",
       "      <td>1.256133e+01</td>\n",
       "    </tr>\n",
       "    <tr>\n",
       "      <th>1</th>\n",
       "      <td>decision_tree</td>\n",
       "      <td>{'max_depth': 5, 'max_leaf_nodes': 5}</td>\n",
       "      <td>9.114698e+00</td>\n",
       "      <td>1.577871e+02</td>\n",
       "      <td>1.256133e+01</td>\n",
       "    </tr>\n",
       "    <tr>\n",
       "      <th>5</th>\n",
       "      <td>decision_tree</td>\n",
       "      <td>{'max_depth': 10, 'max_leaf_nodes': 3}</td>\n",
       "      <td>1.515717e+01</td>\n",
       "      <td>4.738263e+02</td>\n",
       "      <td>2.176755e+01</td>\n",
       "    </tr>\n",
       "    <tr>\n",
       "      <th>0</th>\n",
       "      <td>linear_regression</td>\n",
       "      <td>{}</td>\n",
       "      <td>1.046870e+06</td>\n",
       "      <td>9.591038e+12</td>\n",
       "      <td>3.096940e+06</td>\n",
       "    </tr>\n",
       "  </tbody>\n",
       "</table>\n",
       "</div>"
      ],
      "text/plain": [
       "           model_name                                   hyper_parameters  \\\n",
       "13      random_forest             {'n_estimators': 100, 'max_depth': 10}   \n",
       "11      random_forest              {'n_estimators': 100, 'max_depth': 5}   \n",
       "12      random_forest              {'n_estimators': 50, 'max_depth': 10}   \n",
       "10      random_forest               {'n_estimators': 50, 'max_depth': 5}   \n",
       "4       decision_tree            {'max_depth': 10, 'max_leaf_nodes': 10}   \n",
       "8            adaboost  {'n_estimators': 50, 'learning_rate': 0.1, 'lo...   \n",
       "9            adaboost  {'n_estimators': 100, 'learning_rate': 0.1, 'l...   \n",
       "2       decision_tree             {'max_depth': 3, 'max_leaf_nodes': 10}   \n",
       "7            adaboost  {'n_estimators': 100, 'learning_rate': 0.5, 'l...   \n",
       "6            adaboost  {'n_estimators': 50, 'learning_rate': 0.5, 'lo...   \n",
       "3       decision_tree             {'max_depth': 10, 'max_leaf_nodes': 5}   \n",
       "1       decision_tree              {'max_depth': 5, 'max_leaf_nodes': 5}   \n",
       "5       decision_tree             {'max_depth': 10, 'max_leaf_nodes': 3}   \n",
       "0   linear_regression                                                 {}   \n",
       "\n",
       "             mae           mse          rmse  \n",
       "13  2.937964e+00  2.318022e+01  4.814584e+00  \n",
       "11  3.186662e+00  2.398486e+01  4.897434e+00  \n",
       "12  3.036820e+00  2.464980e+01  4.964857e+00  \n",
       "10  3.306393e+00  2.626150e+01  5.124597e+00  \n",
       "4   5.544658e+00  5.501560e+01  7.417250e+00  \n",
       "8   7.455403e+00  8.141340e+01  9.022937e+00  \n",
       "9   8.018569e+00  8.923768e+01  9.446570e+00  \n",
       "2   7.770058e+00  8.965933e+01  9.468861e+00  \n",
       "7   8.305503e+00  9.527599e+01  9.760942e+00  \n",
       "6   8.305503e+00  9.527599e+01  9.760942e+00  \n",
       "3   9.114698e+00  1.577871e+02  1.256133e+01  \n",
       "1   9.114698e+00  1.577871e+02  1.256133e+01  \n",
       "5   1.515717e+01  4.738263e+02  2.176755e+01  \n",
       "0   1.046870e+06  9.591038e+12  3.096940e+06  "
      ]
     },
     "execution_count": 114,
     "metadata": {},
     "output_type": "execute_result"
    }
   ],
   "source": [
    "df_resultados = pd.DataFrame(resultados)\n",
    "df_resultados.sort_values(by='rmse', ascending=True)"
   ]
  },
  {
   "cell_type": "code",
   "execution_count": 115,
   "metadata": {},
   "outputs": [],
   "source": [
    "df_resultados.to_csv('data/resultados.csv')"
   ]
  },
  {
   "cell_type": "markdown",
   "metadata": {},
   "source": [
    "## 5.2 - Comparação dos Modelos"
   ]
  },
  {
   "cell_type": "markdown",
   "metadata": {},
   "source": [
    "### 5.2.1 - Random Forest\n",
    "\n",
    "**Melhor resultado**\n",
    "\n",
    "Analisando os hiperparametros, aumentando a profundidade maxima e o numero de estimadores, houve uma melhora no resultado\n"
   ]
  },
  {
   "cell_type": "code",
   "execution_count": 116,
   "metadata": {},
   "outputs": [
    {
     "data": {
      "text/html": [
       "<div>\n",
       "<style scoped>\n",
       "    .dataframe tbody tr th:only-of-type {\n",
       "        vertical-align: middle;\n",
       "    }\n",
       "\n",
       "    .dataframe tbody tr th {\n",
       "        vertical-align: top;\n",
       "    }\n",
       "\n",
       "    .dataframe thead th {\n",
       "        text-align: right;\n",
       "    }\n",
       "</style>\n",
       "<table border=\"1\" class=\"dataframe\">\n",
       "  <thead>\n",
       "    <tr style=\"text-align: right;\">\n",
       "      <th></th>\n",
       "      <th>model_name</th>\n",
       "      <th>hyper_parameters</th>\n",
       "      <th>mae</th>\n",
       "      <th>mse</th>\n",
       "      <th>rmse</th>\n",
       "    </tr>\n",
       "  </thead>\n",
       "  <tbody>\n",
       "    <tr>\n",
       "      <th>13</th>\n",
       "      <td>random_forest</td>\n",
       "      <td>{'n_estimators': 100, 'max_depth': 10}</td>\n",
       "      <td>2.937964</td>\n",
       "      <td>23.180224</td>\n",
       "      <td>4.814584</td>\n",
       "    </tr>\n",
       "    <tr>\n",
       "      <th>11</th>\n",
       "      <td>random_forest</td>\n",
       "      <td>{'n_estimators': 100, 'max_depth': 5}</td>\n",
       "      <td>3.186662</td>\n",
       "      <td>23.984857</td>\n",
       "      <td>4.897434</td>\n",
       "    </tr>\n",
       "  </tbody>\n",
       "</table>\n",
       "</div>"
      ],
      "text/plain": [
       "       model_name                        hyper_parameters       mae  \\\n",
       "13  random_forest  {'n_estimators': 100, 'max_depth': 10}  2.937964   \n",
       "11  random_forest   {'n_estimators': 100, 'max_depth': 5}  3.186662   \n",
       "\n",
       "          mse      rmse  \n",
       "13  23.180224  4.814584  \n",
       "11  23.984857  4.897434  "
      ]
     },
     "execution_count": 116,
     "metadata": {},
     "output_type": "execute_result"
    }
   ],
   "source": [
    "df_resultados[df_resultados['model_name']== 'random_forest']\\\n",
    "        .sort_values(by='rmse', ascending=True).head(2)"
   ]
  },
  {
   "cell_type": "markdown",
   "metadata": {},
   "source": [
    "### 5.2.2 - Decision Tree\n",
    "\n",
    "**Segundo Melhor resultado**\n",
    "\n",
    "Analisando os hiperparametros, da mesma forma que o Random Forest, houve melhora com o aumento da profundidade. O numero de folhas também altera o resultado."
   ]
  },
  {
   "cell_type": "code",
   "execution_count": 122,
   "metadata": {},
   "outputs": [
    {
     "data": {
      "text/html": [
       "<div>\n",
       "<style scoped>\n",
       "    .dataframe tbody tr th:only-of-type {\n",
       "        vertical-align: middle;\n",
       "    }\n",
       "\n",
       "    .dataframe tbody tr th {\n",
       "        vertical-align: top;\n",
       "    }\n",
       "\n",
       "    .dataframe thead th {\n",
       "        text-align: right;\n",
       "    }\n",
       "</style>\n",
       "<table border=\"1\" class=\"dataframe\">\n",
       "  <thead>\n",
       "    <tr style=\"text-align: right;\">\n",
       "      <th></th>\n",
       "      <th>model_name</th>\n",
       "      <th>hyper_parameters</th>\n",
       "      <th>mae</th>\n",
       "      <th>mse</th>\n",
       "      <th>rmse</th>\n",
       "    </tr>\n",
       "  </thead>\n",
       "  <tbody>\n",
       "    <tr>\n",
       "      <th>4</th>\n",
       "      <td>decision_tree</td>\n",
       "      <td>{'max_depth': 10, 'max_leaf_nodes': 10}</td>\n",
       "      <td>5.544658</td>\n",
       "      <td>55.015598</td>\n",
       "      <td>7.417250</td>\n",
       "    </tr>\n",
       "    <tr>\n",
       "      <th>2</th>\n",
       "      <td>decision_tree</td>\n",
       "      <td>{'max_depth': 3, 'max_leaf_nodes': 10}</td>\n",
       "      <td>7.770058</td>\n",
       "      <td>89.659334</td>\n",
       "      <td>9.468861</td>\n",
       "    </tr>\n",
       "  </tbody>\n",
       "</table>\n",
       "</div>"
      ],
      "text/plain": [
       "      model_name                         hyper_parameters       mae  \\\n",
       "4  decision_tree  {'max_depth': 10, 'max_leaf_nodes': 10}  5.544658   \n",
       "2  decision_tree   {'max_depth': 3, 'max_leaf_nodes': 10}  7.770058   \n",
       "\n",
       "         mse      rmse  \n",
       "4  55.015598  7.417250  \n",
       "2  89.659334  9.468861  "
      ]
     },
     "execution_count": 122,
     "metadata": {},
     "output_type": "execute_result"
    }
   ],
   "source": [
    "df_resultados[df_resultados['model_name']== 'decision_tree']\\\n",
    "        .sort_values(by='rmse', ascending=True).head(2)"
   ]
  },
  {
   "cell_type": "markdown",
   "metadata": {},
   "source": [
    "### 5.2.3 - Adaboost\n",
    "\n",
    "**Terceiro melhor resultado**\n",
    "\n",
    "Diferente do Random Forest, a redução do numero de estimadores melhorou o resultado do treino."
   ]
  },
  {
   "cell_type": "code",
   "execution_count": 118,
   "metadata": {},
   "outputs": [
    {
     "data": {
      "text/html": [
       "<div>\n",
       "<style scoped>\n",
       "    .dataframe tbody tr th:only-of-type {\n",
       "        vertical-align: middle;\n",
       "    }\n",
       "\n",
       "    .dataframe tbody tr th {\n",
       "        vertical-align: top;\n",
       "    }\n",
       "\n",
       "    .dataframe thead th {\n",
       "        text-align: right;\n",
       "    }\n",
       "</style>\n",
       "<table border=\"1\" class=\"dataframe\">\n",
       "  <thead>\n",
       "    <tr style=\"text-align: right;\">\n",
       "      <th></th>\n",
       "      <th>model_name</th>\n",
       "      <th>hyper_parameters</th>\n",
       "      <th>mae</th>\n",
       "      <th>mse</th>\n",
       "      <th>rmse</th>\n",
       "    </tr>\n",
       "  </thead>\n",
       "  <tbody>\n",
       "    <tr>\n",
       "      <th>8</th>\n",
       "      <td>adaboost</td>\n",
       "      <td>{'n_estimators': 50, 'learning_rate': 0.1, 'lo...</td>\n",
       "      <td>7.455403</td>\n",
       "      <td>81.413398</td>\n",
       "      <td>9.022937</td>\n",
       "    </tr>\n",
       "    <tr>\n",
       "      <th>9</th>\n",
       "      <td>adaboost</td>\n",
       "      <td>{'n_estimators': 100, 'learning_rate': 0.1, 'l...</td>\n",
       "      <td>8.018569</td>\n",
       "      <td>89.237678</td>\n",
       "      <td>9.446570</td>\n",
       "    </tr>\n",
       "  </tbody>\n",
       "</table>\n",
       "</div>"
      ],
      "text/plain": [
       "  model_name                                   hyper_parameters       mae  \\\n",
       "8   adaboost  {'n_estimators': 50, 'learning_rate': 0.1, 'lo...  7.455403   \n",
       "9   adaboost  {'n_estimators': 100, 'learning_rate': 0.1, 'l...  8.018569   \n",
       "\n",
       "         mse      rmse  \n",
       "8  81.413398  9.022937  \n",
       "9  89.237678  9.446570  "
      ]
     },
     "execution_count": 118,
     "metadata": {},
     "output_type": "execute_result"
    }
   ],
   "source": [
    "df_resultados[df_resultados['model_name']== 'adaboost']\\\n",
    "        .sort_values(by='rmse', ascending=True).head(2)"
   ]
  },
  {
   "cell_type": "markdown",
   "metadata": {},
   "source": [
    "### 5.2.4 - Linear Regression\n",
    "\n",
    "**Modelo apenas para referência**\n",
    "\n",
    "Resultado serve como referencia para comparar com os demais modelos."
   ]
  },
  {
   "cell_type": "code",
   "execution_count": 119,
   "metadata": {},
   "outputs": [
    {
     "data": {
      "text/html": [
       "<div>\n",
       "<style scoped>\n",
       "    .dataframe tbody tr th:only-of-type {\n",
       "        vertical-align: middle;\n",
       "    }\n",
       "\n",
       "    .dataframe tbody tr th {\n",
       "        vertical-align: top;\n",
       "    }\n",
       "\n",
       "    .dataframe thead th {\n",
       "        text-align: right;\n",
       "    }\n",
       "</style>\n",
       "<table border=\"1\" class=\"dataframe\">\n",
       "  <thead>\n",
       "    <tr style=\"text-align: right;\">\n",
       "      <th></th>\n",
       "      <th>model_name</th>\n",
       "      <th>hyper_parameters</th>\n",
       "      <th>mae</th>\n",
       "      <th>mse</th>\n",
       "      <th>rmse</th>\n",
       "    </tr>\n",
       "  </thead>\n",
       "  <tbody>\n",
       "    <tr>\n",
       "      <th>0</th>\n",
       "      <td>linear_regression</td>\n",
       "      <td>{}</td>\n",
       "      <td>1.046870e+06</td>\n",
       "      <td>9.591038e+12</td>\n",
       "      <td>3.096940e+06</td>\n",
       "    </tr>\n",
       "  </tbody>\n",
       "</table>\n",
       "</div>"
      ],
      "text/plain": [
       "          model_name hyper_parameters           mae           mse  \\\n",
       "0  linear_regression               {}  1.046870e+06  9.591038e+12   \n",
       "\n",
       "           rmse  \n",
       "0  3.096940e+06  "
      ]
     },
     "execution_count": 119,
     "metadata": {},
     "output_type": "execute_result"
    }
   ],
   "source": [
    "df_resultados[df_resultados['model_name']== 'linear_regression']\\\n",
    "        .sort_values(by='rmse', ascending=True).head(2)"
   ]
  },
  {
   "cell_type": "markdown",
   "metadata": {},
   "source": [
    "## 5.3 - Apresentação do Melhor resultado"
   ]
  },
  {
   "cell_type": "code",
   "execution_count": 123,
   "metadata": {},
   "outputs": [],
   "source": [
    "model = get_model_random_forest(n_estimators=100, max_depth=10)\n",
    "model.fit(X_train, y_train)\n",
    "\n",
    "y_pred = predict(X_test[0,:], model)"
   ]
  },
  {
   "cell_type": "code",
   "execution_count": 124,
   "metadata": {},
   "outputs": [
    {
     "data": {
      "image/png": "[encoded data removed]",
      "text/plain": [
       "<Figure size 2000x400 with 1 Axes>"
      ]
     },
     "metadata": {},
     "output_type": "display_data"
    }
   ],
   "source": [
    "plt.figure(figsize=(20,4))\n",
    "plt.title(f'w={windows_size},  model={model.__class__.__name__}', fontsize=20)\n",
    "plt.plot(y_test, 'k', label='real')\n",
    "plt.plot(y_pred, 'r--', label='predict')\n",
    "plt.ylabel('Vendas', fontsize=14)\n",
    "plt.xlabel('Tempo', fontsize=14)\n",
    "plt.legend(fontsize=14)\n",
    "plt.show()"
   ]
  }
 ],
 "metadata": {
  "kernelspec": {
   "display_name": "venv",
   "language": "python",
   "name": "python3"
  },
  "language_info": {
   "codemirror_mode": {
    "name": "ipython",
    "version": 3
   },
   "file_extension": ".py",
   "mimetype": "text/x-python",
   "name": "python",
   "nbconvert_exporter": "python",
   "pygments_lexer": "ipython3",
   "version": "3.12.4"
  }
 },
 "nbformat": 4,
 "nbformat_minor": 2
}
