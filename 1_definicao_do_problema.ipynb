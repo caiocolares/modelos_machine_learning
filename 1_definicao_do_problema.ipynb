{
 "cells": [
  {
   "cell_type": "markdown",
   "metadata": {},
   "source": [
    "# 1 - Definição dos Dados"
   ]
  },
  {
   "cell_type": "markdown",
   "metadata": {},
   "source": [
    "## 1.1 -Qual o cenário em que está trabalhando?\n",
    "\n",
    "Histórico de vendas de uma industria e comércio de confecção."
   ]
  },
  {
   "cell_type": "markdown",
   "metadata": {},
   "source": [
    "## 1.2 - Qual a problemática que está tentando resolver?\n",
    "\n",
    "Estimativa de vendas por período. "
   ]
  },
  {
   "cell_type": "markdown",
   "metadata": {},
   "source": [
    "## 2.3 - Quais os dados utilizados e como foram obtidos?\n",
    "\n",
    "Solicitação de uso dos dados para empresa. Dependendo dos resultados, serão o modelo será testado em produção."
   ]
  },
  {
   "cell_type": "code",
   "execution_count": 1,
   "metadata": {},
   "outputs": [],
   "source": [
    "import pandas as pd\n",
    "\n",
    "from sqlalchemy import create_engine\n",
    "from dotenv import load_dotenv\n",
    "import os"
   ]
  },
  {
   "cell_type": "markdown",
   "metadata": {},
   "source": [
    "### Variáveis definidas no ambiente usando o python-dotenv\n",
    "\n",
    "https://pypi.org/project/python-dotenv/"
   ]
  },
  {
   "cell_type": "code",
   "execution_count": 2,
   "metadata": {},
   "outputs": [],
   "source": [
    "\n",
    "load_dotenv()\n",
    "\n",
    "username = os.getenv('username')\n",
    "password = os.getenv('password')\n",
    "host = os.getenv('host')\n",
    "database = os.getenv('database')\n",
    "sql = os.getenv('sql')"
   ]
  },
  {
   "cell_type": "code",
   "execution_count": 3,
   "metadata": {},
   "outputs": [],
   "source": [
    "engine = create_engine(f'mssql+pymssql://{username}:{password}@{host}/{database}?charset=utf8')"
   ]
  },
  {
   "cell_type": "code",
   "execution_count": 4,
   "metadata": {},
   "outputs": [],
   "source": [
    "df = pd.read_sql(sql,engine)\n",
    "df.columns = [c.lower() for c in df.columns]"
   ]
  },
  {
   "cell_type": "code",
   "execution_count": 5,
   "metadata": {},
   "outputs": [
    {
     "data": {
      "text/html": [
       "<div>\n",
       "<style scoped>\n",
       "    .dataframe tbody tr th:only-of-type {\n",
       "        vertical-align: middle;\n",
       "    }\n",
       "\n",
       "    .dataframe tbody tr th {\n",
       "        vertical-align: top;\n",
       "    }\n",
       "\n",
       "    .dataframe thead th {\n",
       "        text-align: right;\n",
       "    }\n",
       "</style>\n",
       "<table border=\"1\" class=\"dataframe\">\n",
       "  <thead>\n",
       "    <tr style=\"text-align: right;\">\n",
       "      <th></th>\n",
       "      <th>refer</th>\n",
       "      <th>descricao</th>\n",
       "      <th>categoria</th>\n",
       "      <th>colecao</th>\n",
       "      <th>grupo</th>\n",
       "      <th>tecido</th>\n",
       "      <th>linha</th>\n",
       "      <th>cdfisc</th>\n",
       "      <th>fabricacaopropria</th>\n",
       "      <th>datacriacao</th>\n",
       "      <th>...</th>\n",
       "      <th>qtd</th>\n",
       "      <th>vlunitario</th>\n",
       "      <th>vldesconto</th>\n",
       "      <th>loja</th>\n",
       "      <th>seqvenda</th>\n",
       "      <th>forma_pagto</th>\n",
       "      <th>tabela</th>\n",
       "      <th>cliente</th>\n",
       "      <th>dtvenda</th>\n",
       "      <th>hora</th>\n",
       "    </tr>\n",
       "  </thead>\n",
       "  <tbody>\n",
       "    <tr>\n",
       "      <th>0</th>\n",
       "      <td>26783</td>\n",
       "      <td>SHORT MINI FM (JEANS)</td>\n",
       "      <td>0.0</td>\n",
       "      <td>2491.0</td>\n",
       "      <td>2.0</td>\n",
       "      <td>99.0</td>\n",
       "      <td>2.0</td>\n",
       "      <td>62046200</td>\n",
       "      <td>True</td>\n",
       "      <td>None</td>\n",
       "      <td>...</td>\n",
       "      <td>1.0</td>\n",
       "      <td>104.9</td>\n",
       "      <td>0.00</td>\n",
       "      <td>1.0</td>\n",
       "      <td>206.0</td>\n",
       "      <td>1.0</td>\n",
       "      <td>2.0</td>\n",
       "      <td>44180.0</td>\n",
       "      <td>2021-09-28</td>\n",
       "      <td>10:22</td>\n",
       "    </tr>\n",
       "    <tr>\n",
       "      <th>1</th>\n",
       "      <td>3350</td>\n",
       "      <td>BLUSA TEE (MALHA)</td>\n",
       "      <td>NaN</td>\n",
       "      <td>2470.0</td>\n",
       "      <td>5.0</td>\n",
       "      <td>99.0</td>\n",
       "      <td>3.0</td>\n",
       "      <td>62069000</td>\n",
       "      <td>True</td>\n",
       "      <td>None</td>\n",
       "      <td>...</td>\n",
       "      <td>1.0</td>\n",
       "      <td>34.9</td>\n",
       "      <td>17.45</td>\n",
       "      <td>1.0</td>\n",
       "      <td>254.0</td>\n",
       "      <td>1.0</td>\n",
       "      <td>2.0</td>\n",
       "      <td>7744.0</td>\n",
       "      <td>2021-09-28</td>\n",
       "      <td>10:25</td>\n",
       "    </tr>\n",
       "    <tr>\n",
       "      <th>2</th>\n",
       "      <td>26783</td>\n",
       "      <td>SHORT MINI FM (JEANS)</td>\n",
       "      <td>0.0</td>\n",
       "      <td>2491.0</td>\n",
       "      <td>2.0</td>\n",
       "      <td>99.0</td>\n",
       "      <td>2.0</td>\n",
       "      <td>62046200</td>\n",
       "      <td>True</td>\n",
       "      <td>None</td>\n",
       "      <td>...</td>\n",
       "      <td>1.0</td>\n",
       "      <td>104.9</td>\n",
       "      <td>0.00</td>\n",
       "      <td>1.0</td>\n",
       "      <td>313.0</td>\n",
       "      <td>1.0</td>\n",
       "      <td>2.0</td>\n",
       "      <td>7736.0</td>\n",
       "      <td>2021-09-29</td>\n",
       "      <td>10:27</td>\n",
       "    </tr>\n",
       "    <tr>\n",
       "      <th>3</th>\n",
       "      <td>26930</td>\n",
       "      <td>SHORTS CANOA FM (PLANO)</td>\n",
       "      <td>NaN</td>\n",
       "      <td>2488.0</td>\n",
       "      <td>2.0</td>\n",
       "      <td>99.0</td>\n",
       "      <td>2.0</td>\n",
       "      <td>62046200</td>\n",
       "      <td>True</td>\n",
       "      <td>None</td>\n",
       "      <td>...</td>\n",
       "      <td>1.0</td>\n",
       "      <td>94.9</td>\n",
       "      <td>47.45</td>\n",
       "      <td>1.0</td>\n",
       "      <td>313.0</td>\n",
       "      <td>1.0</td>\n",
       "      <td>2.0</td>\n",
       "      <td>7736.0</td>\n",
       "      <td>2021-09-29</td>\n",
       "      <td>10:27</td>\n",
       "    </tr>\n",
       "    <tr>\n",
       "      <th>4</th>\n",
       "      <td>306086</td>\n",
       "      <td>CARDIGAN HELOISA FM (MALHA)</td>\n",
       "      <td>0.0</td>\n",
       "      <td>2491.0</td>\n",
       "      <td>5.0</td>\n",
       "      <td>99.0</td>\n",
       "      <td>2.0</td>\n",
       "      <td>61069000</td>\n",
       "      <td>True</td>\n",
       "      <td>None</td>\n",
       "      <td>...</td>\n",
       "      <td>1.0</td>\n",
       "      <td>84.9</td>\n",
       "      <td>0.00</td>\n",
       "      <td>1.0</td>\n",
       "      <td>313.0</td>\n",
       "      <td>1.0</td>\n",
       "      <td>2.0</td>\n",
       "      <td>7736.0</td>\n",
       "      <td>2021-09-29</td>\n",
       "      <td>10:27</td>\n",
       "    </tr>\n",
       "  </tbody>\n",
       "</table>\n",
       "<p>5 rows × 22 columns</p>\n",
       "</div>"
      ],
      "text/plain": [
       "    refer                    descricao  categoria  colecao  grupo  tecido  \\\n",
       "0   26783        SHORT MINI FM (JEANS)        0.0   2491.0    2.0    99.0   \n",
       "1    3350            BLUSA TEE (MALHA)        NaN   2470.0    5.0    99.0   \n",
       "2   26783        SHORT MINI FM (JEANS)        0.0   2491.0    2.0    99.0   \n",
       "3   26930      SHORTS CANOA FM (PLANO)        NaN   2488.0    2.0    99.0   \n",
       "4  306086  CARDIGAN HELOISA FM (MALHA)        0.0   2491.0    5.0    99.0   \n",
       "\n",
       "   linha    cdfisc  fabricacaopropria datacriacao  ...  qtd vlunitario  \\\n",
       "0    2.0  62046200               True        None  ...  1.0      104.9   \n",
       "1    3.0  62069000               True        None  ...  1.0       34.9   \n",
       "2    2.0  62046200               True        None  ...  1.0      104.9   \n",
       "3    2.0  62046200               True        None  ...  1.0       94.9   \n",
       "4    2.0  61069000               True        None  ...  1.0       84.9   \n",
       "\n",
       "   vldesconto  loja  seqvenda  forma_pagto  tabela  cliente    dtvenda   hora  \n",
       "0        0.00   1.0     206.0          1.0     2.0  44180.0 2021-09-28  10:22  \n",
       "1       17.45   1.0     254.0          1.0     2.0   7744.0 2021-09-28  10:25  \n",
       "2        0.00   1.0     313.0          1.0     2.0   7736.0 2021-09-29  10:27  \n",
       "3       47.45   1.0     313.0          1.0     2.0   7736.0 2021-09-29  10:27  \n",
       "4        0.00   1.0     313.0          1.0     2.0   7736.0 2021-09-29  10:27  \n",
       "\n",
       "[5 rows x 22 columns]"
      ]
     },
     "execution_count": 5,
     "metadata": {},
     "output_type": "execute_result"
    }
   ],
   "source": [
    "df.head()"
   ]
  },
  {
   "cell_type": "code",
   "execution_count": 6,
   "metadata": {},
   "outputs": [],
   "source": [
    "df.to_csv(\"data/vendas.csv\", index=False)"
   ]
  }
 ],
 "metadata": {
  "kernelspec": {
   "display_name": "venv",
   "language": "python",
   "name": "python3"
  },
  "language_info": {
   "codemirror_mode": {
    "name": "ipython",
    "version": 3
   },
   "file_extension": ".py",
   "mimetype": "text/x-python",
   "name": "python",
   "nbconvert_exporter": "python",
   "pygments_lexer": "ipython3",
   "version": "3.12.4"
  }
 },
 "nbformat": 4,
 "nbformat_minor": 2
}
