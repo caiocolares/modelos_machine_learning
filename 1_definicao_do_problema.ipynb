{
 "cells": [
  {
   "cell_type": "markdown",
   "metadata": {},
   "source": [
    "# 1 - Definição dos Dados"
   ]
  },
  {
   "cell_type": "markdown",
   "metadata": {},
   "source": [
    "## 1.1 -Qual o cenário em que está trabalhando?\n",
    "\n",
    "Histórico de vendas de uma industria e comércio de confecção."
   ]
  },
  {
   "cell_type": "markdown",
   "metadata": {},
   "source": [
    "## 1.2 - Qual a problemática que está tentando resolver?\n",
    "\n",
    "Estimativa de vendas por período. "
   ]
  },
  {
   "cell_type": "markdown",
   "metadata": {},
   "source": [
    "## 2.3 - Quais os dados utilizados e como foram obtidos?\n",
    "\n",
    "Solicitação de uso dos dados para empresa. Dependendo dos resultados, serão o modelo será testado em produção."
   ]
  },
  {
   "cell_type": "code",
   "execution_count": 1,
   "metadata": {},
   "outputs": [],
   "source": [
    "import pandas as pd\n",
    "\n",
    "from sqlalchemy import create_engine\n",
    "from dotenv import load_dotenv\n",
    "import os"
   ]
  },
  {
   "cell_type": "markdown",
   "metadata": {},
   "source": [
    "### Variáveis definidas no ambiente usando o python-dotenv\n",
    "\n",
    "https://pypi.org/project/python-dotenv/"
   ]
  },
  {
   "cell_type": "code",
   "execution_count": 2,
   "metadata": {},
   "outputs": [],
   "source": [
    "\n",
    "load_dotenv()\n",
    "\n",
    "username = os.getenv('username')\n",
    "password = os.getenv('password')\n",
    "host = os.getenv('host')\n",
    "database = os.getenv('database')\n",
    "sql = os.getenv('sql')"
   ]
  },
  {
   "cell_type": "code",
   "execution_count": 3,
   "metadata": {},
   "outputs": [],
   "source": [
    "engine = create_engine(f'mssql+pymssql://{username}:{password}@{host}/{database}?charset=utf8')"
   ]
  },
  {
   "cell_type": "code",
   "execution_count": 4,
   "metadata": {},
   "outputs": [],
   "source": [
    "df = pd.read_sql(sql,engine)\n",
    "df.columns = [c.lower() for c in df.columns]"
   ]
  },
  {
   "cell_type": "code",
   "execution_count": 6,
   "metadata": {},
   "outputs": [
    {
     "data": {
      "text/html": [
       "<div>\n",
       "<style scoped>\n",
       "    .dataframe tbody tr th:only-of-type {\n",
       "        vertical-align: middle;\n",
       "    }\n",
       "\n",
       "    .dataframe tbody tr th {\n",
       "        vertical-align: top;\n",
       "    }\n",
       "\n",
       "    .dataframe thead th {\n",
       "        text-align: right;\n",
       "    }\n",
       "</style>\n",
       "<table border=\"1\" class=\"dataframe\">\n",
       "  <thead>\n",
       "    <tr style=\"text-align: right;\">\n",
       "      <th></th>\n",
       "      <th>refer</th>\n",
       "      <th>descricao</th>\n",
       "      <th>categoria</th>\n",
       "      <th>colecao</th>\n",
       "      <th>grupo</th>\n",
       "      <th>tecido</th>\n",
       "      <th>linha</th>\n",
       "      <th>cdfisc</th>\n",
       "      <th>fabricacaopropria</th>\n",
       "      <th>datacriacao</th>\n",
       "      <th>...</th>\n",
       "      <th>qtd</th>\n",
       "      <th>vlunitario</th>\n",
       "      <th>vldesconto</th>\n",
       "      <th>loja</th>\n",
       "      <th>seqvenda</th>\n",
       "      <th>forma_pagto</th>\n",
       "      <th>tabela</th>\n",
       "      <th>cliente</th>\n",
       "      <th>dtvenda</th>\n",
       "      <th>hora</th>\n",
       "    </tr>\n",
       "  </thead>\n",
       "  <tbody>\n",
       "    <tr>\n",
       "      <th>0</th>\n",
       "      <td>306275</td>\n",
       "      <td>TOP TOQUIO FM (MALHA)</td>\n",
       "      <td>NaN</td>\n",
       "      <td>2491.0</td>\n",
       "      <td>5.0</td>\n",
       "      <td>99.0</td>\n",
       "      <td>2.0</td>\n",
       "      <td>61069000</td>\n",
       "      <td>True</td>\n",
       "      <td>None</td>\n",
       "      <td>...</td>\n",
       "      <td>1.0</td>\n",
       "      <td>49.9</td>\n",
       "      <td>0.0</td>\n",
       "      <td>1.0</td>\n",
       "      <td>1846.0</td>\n",
       "      <td>1.0</td>\n",
       "      <td>2.0</td>\n",
       "      <td>29366.0</td>\n",
       "      <td>2022-01-04</td>\n",
       "      <td>01:55</td>\n",
       "    </tr>\n",
       "    <tr>\n",
       "      <th>1</th>\n",
       "      <td>26905</td>\n",
       "      <td>SHORT TIRA FM (JEANS)</td>\n",
       "      <td>0.0</td>\n",
       "      <td>2488.0</td>\n",
       "      <td>2.0</td>\n",
       "      <td>99.0</td>\n",
       "      <td>2.0</td>\n",
       "      <td>62046200</td>\n",
       "      <td>True</td>\n",
       "      <td>None</td>\n",
       "      <td>...</td>\n",
       "      <td>1.0</td>\n",
       "      <td>104.9</td>\n",
       "      <td>0.0</td>\n",
       "      <td>1.0</td>\n",
       "      <td>6.0</td>\n",
       "      <td>1.0</td>\n",
       "      <td>2.0</td>\n",
       "      <td>32740.0</td>\n",
       "      <td>2021-09-20</td>\n",
       "      <td>17:58</td>\n",
       "    </tr>\n",
       "    <tr>\n",
       "      <th>2</th>\n",
       "      <td>26905</td>\n",
       "      <td>SHORT TIRA FM (JEANS)</td>\n",
       "      <td>0.0</td>\n",
       "      <td>2488.0</td>\n",
       "      <td>2.0</td>\n",
       "      <td>99.0</td>\n",
       "      <td>2.0</td>\n",
       "      <td>62046200</td>\n",
       "      <td>True</td>\n",
       "      <td>None</td>\n",
       "      <td>...</td>\n",
       "      <td>1.0</td>\n",
       "      <td>104.9</td>\n",
       "      <td>0.0</td>\n",
       "      <td>1.0</td>\n",
       "      <td>6.0</td>\n",
       "      <td>1.0</td>\n",
       "      <td>2.0</td>\n",
       "      <td>32740.0</td>\n",
       "      <td>2021-09-20</td>\n",
       "      <td>17:58</td>\n",
       "    </tr>\n",
       "    <tr>\n",
       "      <th>3</th>\n",
       "      <td>26905</td>\n",
       "      <td>SHORT TIRA FM (JEANS)</td>\n",
       "      <td>0.0</td>\n",
       "      <td>2488.0</td>\n",
       "      <td>2.0</td>\n",
       "      <td>99.0</td>\n",
       "      <td>2.0</td>\n",
       "      <td>62046200</td>\n",
       "      <td>True</td>\n",
       "      <td>None</td>\n",
       "      <td>...</td>\n",
       "      <td>1.0</td>\n",
       "      <td>104.9</td>\n",
       "      <td>0.0</td>\n",
       "      <td>1.0</td>\n",
       "      <td>6.0</td>\n",
       "      <td>1.0</td>\n",
       "      <td>2.0</td>\n",
       "      <td>32740.0</td>\n",
       "      <td>2021-09-20</td>\n",
       "      <td>17:58</td>\n",
       "    </tr>\n",
       "    <tr>\n",
       "      <th>4</th>\n",
       "      <td>26905</td>\n",
       "      <td>SHORT TIRA FM (JEANS)</td>\n",
       "      <td>0.0</td>\n",
       "      <td>2488.0</td>\n",
       "      <td>2.0</td>\n",
       "      <td>99.0</td>\n",
       "      <td>2.0</td>\n",
       "      <td>62046200</td>\n",
       "      <td>True</td>\n",
       "      <td>None</td>\n",
       "      <td>...</td>\n",
       "      <td>1.0</td>\n",
       "      <td>104.9</td>\n",
       "      <td>0.0</td>\n",
       "      <td>1.0</td>\n",
       "      <td>6.0</td>\n",
       "      <td>1.0</td>\n",
       "      <td>2.0</td>\n",
       "      <td>32740.0</td>\n",
       "      <td>2021-09-20</td>\n",
       "      <td>17:58</td>\n",
       "    </tr>\n",
       "  </tbody>\n",
       "</table>\n",
       "<p>5 rows × 22 columns</p>\n",
       "</div>"
      ],
      "text/plain": [
       "    refer              descricao  categoria  colecao  grupo  tecido  linha  \\\n",
       "0  306275  TOP TOQUIO FM (MALHA)        NaN   2491.0    5.0    99.0    2.0   \n",
       "1   26905  SHORT TIRA FM (JEANS)        0.0   2488.0    2.0    99.0    2.0   \n",
       "2   26905  SHORT TIRA FM (JEANS)        0.0   2488.0    2.0    99.0    2.0   \n",
       "3   26905  SHORT TIRA FM (JEANS)        0.0   2488.0    2.0    99.0    2.0   \n",
       "4   26905  SHORT TIRA FM (JEANS)        0.0   2488.0    2.0    99.0    2.0   \n",
       "\n",
       "     cdfisc  fabricacaopropria datacriacao  ...  qtd vlunitario  vldesconto  \\\n",
       "0  61069000               True        None  ...  1.0       49.9         0.0   \n",
       "1  62046200               True        None  ...  1.0      104.9         0.0   \n",
       "2  62046200               True        None  ...  1.0      104.9         0.0   \n",
       "3  62046200               True        None  ...  1.0      104.9         0.0   \n",
       "4  62046200               True        None  ...  1.0      104.9         0.0   \n",
       "\n",
       "   loja  seqvenda  forma_pagto  tabela  cliente    dtvenda   hora  \n",
       "0   1.0    1846.0          1.0     2.0  29366.0 2022-01-04  01:55  \n",
       "1   1.0       6.0          1.0     2.0  32740.0 2021-09-20  17:58  \n",
       "2   1.0       6.0          1.0     2.0  32740.0 2021-09-20  17:58  \n",
       "3   1.0       6.0          1.0     2.0  32740.0 2021-09-20  17:58  \n",
       "4   1.0       6.0          1.0     2.0  32740.0 2021-09-20  17:58  \n",
       "\n",
       "[5 rows x 22 columns]"
      ]
     },
     "execution_count": 6,
     "metadata": {},
     "output_type": "execute_result"
    }
   ],
   "source": [
    "df.head()"
   ]
  },
  {
   "cell_type": "code",
   "execution_count": 8,
   "metadata": {},
   "outputs": [],
   "source": [
    "df.to_csv(\"data/vendas.csv\", index=False)"
   ]
  }
 ],
 "metadata": {
  "kernelspec": {
   "display_name": "venv",
   "language": "python",
   "name": "python3"
  },
  "language_info": {
   "codemirror_mode": {
    "name": "ipython",
    "version": 3
   },
   "file_extension": ".py",
   "mimetype": "text/x-python",
   "name": "python",
   "nbconvert_exporter": "python",
   "pygments_lexer": "ipython3",
   "version": "3.12.4"
  }
 },
 "nbformat": 4,
 "nbformat_minor": 2
}
